{
 "cells": [
  {
   "cell_type": "code",
   "execution_count": null,
   "id": "0e84fa87-c62c-4ba3-b919-108f544652f7",
   "metadata": {},
   "outputs": [],
   "source": []
  },
  {
   "cell_type": "markdown",
   "id": "59ca3620-74dd-42cb-9bba-4d7ea3d60be4",
   "metadata": {},
   "source": [
    "## Update and install packages"
   ]
  },
  {
   "cell_type": "code",
   "execution_count": null,
   "id": "78a0c20b",
   "metadata": {
    "id": "78a0c20b"
   },
   "outputs": [],
   "source": [
    "# Update and install display packages and stable baseline 3\n",
    "# uncomment if running notebook for the first time\n",
    "!apt-get update && apt-get install swig cmake -y\n",
    "!apt-get update && apt-get install ffmpeg freeglut3-dev xvfb -y\n",
    "!pip install box2d-py\n",
    "!pip install moviepy\n",
    "!pip install \"stable-baselines3[extra]>=2.0.0a4\"\n"
   ]
  },
  {
   "cell_type": "markdown",
   "id": "b0366550",
   "metadata": {
    "id": "b0366550"
   },
   "source": [
    "## Import Libraries"
   ]
  },
  {
   "cell_type": "code",
   "execution_count": 3,
   "id": "6e3dc858",
   "metadata": {
    "id": "6e3dc858"
   },
   "outputs": [],
   "source": [
    "# Import rquired libraries and modules\n",
    "import os\n",
    "import signal\n",
    "import subprocess\n",
    "import gymnasium as gym\n",
    "import stable_baselines3\n",
    "from stable_baselines3 import PPO\n",
    "from stable_baselines3.common.monitor import Monitor\n",
    "from stable_baselines3.common.callbacks import BaseCallback\n",
    "from stable_baselines3.common.results_plotter import load_results, ts2xy\n",
    "from stable_baselines3.common.vec_env import VecVideoRecorder, DummyVecEnv\n",
    "from stable_baselines3.common.torch_layers import BaseFeaturesExtractor\n",
    "import torch.nn as nn\n",
    "import matplotlib.pyplot as plt\n",
    "import numpy as np\n",
    "import torch\n",
    "from pathlib import Path\n",
    "import base64\n",
    "from IPython import display as ipythondisplay\n",
    "from stable_baselines3.common.env_util import make_atari_env\n",
    "from stable_baselines3.common.vec_env import VecFrameStack\n"
   ]
  },
  {
   "cell_type": "code",
   "execution_count": 4,
   "id": "1c0e04dc-569b-45ec-b46b-84c919cb8704",
   "metadata": {
    "tags": []
   },
   "outputs": [
    {
     "name": "stdout",
     "output_type": "stream",
     "text": [
      "gym.__version__='0.29.1'\n",
      "stable_baselines3.__version__='2.4.0a7'\n"
     ]
    }
   ],
   "source": [
    "# Check gym and stable baseline 3 versions\n",
    "print(f\"{gym.__version__=}\")\n",
    "print(f\"{stable_baselines3.__version__=}\")\n"
   ]
  },
  {
   "cell_type": "markdown",
   "id": "ff59430f",
   "metadata": {
    "id": "ff59430f"
   },
   "source": [
    "## Callbacks and Directory Setup"
   ]
  },
  {
   "cell_type": "code",
   "execution_count": 5,
   "id": "80720234",
   "metadata": {
    "id": "80720234"
   },
   "outputs": [],
   "source": [
    "# class to manage display\n",
    "class Display:\n",
    "    def __init__(self, command: str):\n",
    "        self.command = command\n",
    "        \n",
    "    def start(self):\n",
    "        self.process = subprocess.Popen(self.command.split())  \n",
    "        os.environ['DISPLAY'] = ':1'\n",
    "        \n",
    "    def terminate(self):\n",
    "        self.process.terminate()\n",
    "        \n",
    "# callback for saving model at regular intervals\n",
    "class SaveOnIntervalCallback(BaseCallback):\n",
    "    def __init__(self, save_interval: int, save_path: str, verbose=1):\n",
    "        super().__init__(verbose)\n",
    "        self.save_interval = save_interval\n",
    "        self.save_path = save_path\n",
    "\n",
    "    def _on_step(self) -> bool:\n",
    "        # Save the model every 'save_interval' steps\n",
    "        if self.num_timesteps % self.save_interval == 0:\n",
    "            save_file = os.path.join(self.save_path, f'model_{self.num_timesteps}')\n",
    "            self.model.save(save_file)\n",
    "            if self.verbose > 0:\n",
    "                print(f'Saving model to {save_file}.zip')\n",
    "        return True\n"
   ]
  },
  {
   "cell_type": "code",
   "execution_count": 6,
   "id": "7uTikrHH7VQP",
   "metadata": {
    "id": "7uTikrHH7VQP"
   },
   "outputs": [],
   "source": [
    "# file saving locations\n",
    "log_dir = \"./Breakout/PPO/logs/\"\n",
    "models_dir = \"./Breakout/PPO/models/\"\n",
    "os.makedirs(log_dir, exist_ok=True)\n",
    "os.makedirs(models_dir, exist_ok=True)\n"
   ]
  },
  {
   "cell_type": "markdown",
   "id": "e82ab2e6",
   "metadata": {
    "id": "e82ab2e6"
   },
   "source": [
    "## Define Custom Feature Extractor and Create PPO Model"
   ]
  },
  {
   "cell_type": "code",
   "execution_count": 7,
   "id": "28fa8f89",
   "metadata": {
    "id": "28fa8f89"
   },
   "outputs": [],
   "source": [
    "# Feature extraction from frames as observations / states\n",
    "class CustomCNN(BaseFeaturesExtractor):\n",
    "    def __init__(self, observation_space: gym.spaces.Box, features_dim: int = 512):\n",
    "        super(CustomCNN, self).__init__(observation_space, features_dim)\n",
    "        # convolutional layers\n",
    "        self.cnn = nn.Sequential(\n",
    "            nn.Conv2d(observation_space.shape[0], 32, kernel_size=8, stride=4),\n",
    "            nn.ReLU(),\n",
    "            nn.Conv2d(32, 64, kernel_size=4, stride=2),\n",
    "            nn.ReLU(),\n",
    "            nn.Conv2d(64, 64, kernel_size=3, stride=1),\n",
    "            nn.ReLU(),\n",
    "            nn.Flatten(),\n",
    "        )\n",
    "\n",
    "        # flatten output tensor\n",
    "        with torch.no_grad():\n",
    "            n_flatten = self.cnn(\n",
    "                torch.as_tensor(observation_space.sample()[None]).float()\n",
    "            ).shape[1]\n",
    "\n",
    "        # fully conntected output layer\n",
    "        self.linear = nn.Sequential(nn.Linear(n_flatten, features_dim), nn.ReLU())\n",
    "\n",
    "    def forward(self, observations: torch.Tensor) -> torch.Tensor:\n",
    "        # Process the observations through the CNN and linear layers\n",
    "        return self.linear(self.cnn(observations))\n"
   ]
  },
  {
   "cell_type": "markdown",
   "id": "TXhEmj6-kgCI",
   "metadata": {
    "id": "TXhEmj6-kgCI"
   },
   "source": []
  },
  {
   "cell_type": "code",
   "execution_count": 8,
   "id": "7deb914e-11a9-4615-a42f-7b4efe832bde",
   "metadata": {
    "tags": []
   },
   "outputs": [],
   "source": [
    "# Initialise gym env"
   ]
  },
  {
   "cell_type": "code",
   "execution_count": 9,
   "id": "d31da687-bb01-4803-8b5f-4516ce41a34c",
   "metadata": {
    "tags": []
   },
   "outputs": [
    {
     "name": "stderr",
     "output_type": "stream",
     "text": [
      "A.L.E: Arcade Learning Environment (version 0.8.1+53f58b7)\n",
      "[Powered by Stella]\n"
     ]
    }
   ],
   "source": [
    "# Initialize the Atari environment with the specified game and configurations\n",
    "env = make_atari_env(\"ALE/Breakout-v5\", n_envs=4, seed=0)\n",
    "# Stack 4 consecutive frames together to provide temporal information\n",
    "env = VecFrameStack(env, n_stack=6) # can fine tunenumber of frame images to learn from. Always more than 1. 4 frames in each state"
   ]
  },
  {
   "cell_type": "code",
   "execution_count": 10,
   "id": "c84ff777-cb9c-43b2-852f-1a3b568a2553",
   "metadata": {
    "tags": []
   },
   "outputs": [],
   "source": [
    "#### Initial the PPO model using custon CNN feature extractor'"
   ]
  },
  {
   "cell_type": "code",
   "execution_count": 11,
   "id": "r3wsJTjQr6QL",
   "metadata": {
    "id": "r3wsJTjQr6QL"
   },
   "outputs": [
    {
     "name": "stdout",
     "output_type": "stream",
     "text": [
      "Using cuda device\n",
      "Wrapping the env in a VecTransposeImage.\n"
     ]
    }
   ],
   "source": [
    "# Initialize the PPO agent with specified parameters\n",
    "model = PPO(\n",
    "    env=env,\n",
    "    policy='CnnPolicy',\n",
    "    verbose=1,\n",
    "    clip_range=0.1,\n",
    "    ent_coef=0.01,\n",
    "    learning_rate=2.5e-4,\n",
    "    n_epochs=4,\n",
    "    n_steps=128,\n",
    "    vf_coef=0.5,\n",
    "    batch_size=256,\n",
    "    policy_kwargs={'features_extractor_class': CustomCNN}\n",
    ")"
   ]
  },
  {
   "cell_type": "markdown",
   "id": "50f91ade",
   "metadata": {
    "id": "50f91ade"
   },
   "source": [
    "## Train the Model"
   ]
  },
  {
   "cell_type": "code",
   "execution_count": null,
   "id": "4f26bfc4",
   "metadata": {
    "id": "4f26bfc4"
   },
   "outputs": [],
   "source": [
    "# Define the interval at which models are saved during training\n",
    "save_interval = 10000\n",
    "save_callback = SaveOnIntervalCallback(save_interval, models_dir)\n",
    "\n",
    "# Train the PPO agent\n",
    "total_timesteps = 100000\n",
    "model.learn(total_timesteps=total_timesteps, callback=save_callback)\n",
    "\n",
    "# Save the final model after training completes\n",
    "final_model_path = os.path.join(models_dir, f'model_fineal')\n",
    "model.save(final_model_path)"
   ]
  },
  {
   "cell_type": "markdown",
   "id": "84d03357",
   "metadata": {
    "id": "84d03357"
   },
   "source": [
    "## Video Recording and Display Functions"
   ]
  },
  {
   "cell_type": "code",
   "execution_count": null,
   "id": "a930e872",
   "metadata": {
    "id": "a930e872"
   },
   "outputs": [],
   "source": [
    "# Functions to record videos of the agent playing and display the videos\n",
    "\n",
    "def show_videos(video_path=\"\", prefix=\"\"):\n",
    "    \"\"\"Displays videos from a specified directory.\"\"\"\n",
    "    html = []\n",
    "    for mp4 in Path(video_path).glob(\"{}*.mp4\".format(prefix)):\n",
    "        video_b64 = base64.b64encode(mp4.read_bytes())\n",
    "        html.append(\n",
    "            '''<video alt=\"{0}\" autoplay\n",
    "                      loop controls style=\"height: 400px;\">\n",
    "                <source src=\"data:video/mp4;base64,{1}\" type=\"video/mp4\" />\n",
    "            </video>'''.format(mp4, video_b64.decode('ascii'))\n",
    "        )\n",
    "    ipythondisplay.display(ipythondisplay.HTML(data=\"<br>\".join(html)))\n",
    "\n",
    "\n",
    "def record_video(env_id, model, video_length=500, prefix=\"\", video_folder=\"./Breakout/PPO/videos/\"):\n",
    "    eval_env = make_atari_env(env_id, n_envs=1, seed=0, vec_env_cls=DummyVecEnv)  # Create a single Atari environment\n",
    "    eval_env = VecFrameStack(eval_env, n_stack=4)  # Stack 4 frames together for temporal information\n",
    "    eval_env = VecVideoRecorder(  # Initialize video recorder\n",
    "        eval_env,\n",
    "        video_folder=video_folder,  # Specify folder to save videos\n",
    "        record_video_trigger=lambda step: step == 0,  # Set trigger to start recording at step 0\n",
    "        video_length=video_length,  # Set video length\n",
    "        name_prefix=prefix,  # Set prefix for video filenames\n",
    "    )\n",
    "    obs = eval_env.reset()  # Reset the environment to get initial observation\n",
    "    for _ in range(video_length):  # Loop through for the specified video length\n",
    "        action, _ = model.predict(obs)  # Predict action based on current observation\n",
    "        obs, _, _, _ = eval_env.step(action)  # Execute action in the environment\n",
    "    eval_env.close()  # Close the environment and video recorder\n",
    "\n",
    "\n"
   ]
  },
  {
   "cell_type": "markdown",
   "id": "ef10ae54",
   "metadata": {
    "id": "ef10ae54"
   },
   "source": [
    "## Record and Display Videos at Different Training Stages"
   ]
  },
  {
   "cell_type": "code",
   "execution_count": null,
   "id": "a43522d0",
   "metadata": {
    "id": "a43522d0"
   },
   "outputs": [],
   "source": [
    "\n",
    "# Create a directory to save videos\n",
    "os.makedirs(\"videos\", exist_ok=True)\n",
    "\n",
    "# Record a video of the trained agent\n",
    "# record_video(\"BreakoutNoFrameskip-v4\", model, video_length=1000, prefix='ppo-breakout')\n",
    "\n",
    "# Display the video\n",
    "import os\n",
    "\n",
    "def get_model_identifiers(models_dir):\n",
    "    files = os.listdir(models_dir)\n",
    "    model_files = [f for f in files if f.startswith('model_')]\n",
    "    identifiers = [f.split('_')[1] for f in model_files]\n",
    "    return identifiers\n",
    "\n",
    "def find_key_identifiers(identifiers):\n",
    "    identifiers.sort()  # Ensure identifiers are sorted\n",
    "    earliest = identifiers[0]\n",
    "    final = identifiers[-1]\n",
    "    middle = identifiers[len(identifiers) // 2]\n",
    "    return earliest, middle, final\n",
    "\n",
    "def view(models_dir):\n",
    "    identifiers = get_model_identifiers(models_dir)\n",
    "    earliest, middle, final = find_key_identifiers(identifiers)\n",
    "\n",
    "    # Record videos at the beginning, middle, and end of training\n",
    "    for stage, identifier in zip([\"beginning\", \"middle\", \"end\"], [earliest, middle, final]):\n",
    "        model_path = os.path.join(models_dir, f'model_{identifier}')\n",
    "        model = PPO.load(model_path)\n",
    "        record_video(\"BreakoutNoFrameskip-v4\", model, video_length=1000, prefix=f'ppo-breakout-{stage}')\n",
    "\n",
    "    # Display the videos\n",
    "    for stage in [\"beginning\", \"middle\", \"end\"]:\n",
    "        show_videos(\"videos\", prefix=f'ppo-breakout-{stage}')\n"
   ]
  },
  {
   "cell_type": "code",
   "execution_count": null,
   "id": "lRTxMdrsoHPm",
   "metadata": {
    "id": "lRTxMdrsoHPm"
   },
   "outputs": [],
   "source": [
    "display = Display(\"Xvfb :1 -screen 0 1024x768x24\")\n",
    "display.start()\n",
    "\n",
    "# Changes the model directory below\n",
    "view(models_dir)\n",
    "\n",
    "display.terminate()\n"
   ]
  },
  {
   "cell_type": "code",
   "execution_count": null,
   "id": "b63dfc40-ac37-4ce0-a2d1-4082c1983e06",
   "metadata": {},
   "outputs": [],
   "source": [
    "# Function for plotting the learning curve of the agent\n",
    "def plot_results(log_folder, title=\"Learning Curve\"):\n",
    "    x, y = ts2xy(load_results(log_folder), \"timesteps\")\n",
    "    y = np.convolve(y, np.ones((50,))/50, mode='valid')\n",
    "    x = x[len(x) - len(y):]\n",
    "    plt.figure(figsize=(10,5))\n",
    "    plt.plot(x, y)\n",
    "    plt.xlabel(\"Number of Timesteps\")\n",
    "    plt.ylabel(\"Rewards\")\n",
    "    plt.title(title + \" Smoothed\")\n",
    "    plt.show()\n",
    "\n",
    "plot_results(log_dir)\n"
   ]
  }
 ],
 "metadata": {
  "accelerator": "GPU",
  "availableInstances": [
   {
    "_defaultOrder": 0,
    "_isFastLaunch": true,
    "category": "General purpose",
    "gpuNum": 0,
    "hideHardwareSpecs": false,
    "memoryGiB": 4,
    "name": "ml.t3.medium",
    "vcpuNum": 2
   },
   {
    "_defaultOrder": 1,
    "_isFastLaunch": false,
    "category": "General purpose",
    "gpuNum": 0,
    "hideHardwareSpecs": false,
    "memoryGiB": 8,
    "name": "ml.t3.large",
    "vcpuNum": 2
   },
   {
    "_defaultOrder": 2,
    "_isFastLaunch": false,
    "category": "General purpose",
    "gpuNum": 0,
    "hideHardwareSpecs": false,
    "memoryGiB": 16,
    "name": "ml.t3.xlarge",
    "vcpuNum": 4
   },
   {
    "_defaultOrder": 3,
    "_isFastLaunch": false,
    "category": "General purpose",
    "gpuNum": 0,
    "hideHardwareSpecs": false,
    "memoryGiB": 32,
    "name": "ml.t3.2xlarge",
    "vcpuNum": 8
   },
   {
    "_defaultOrder": 4,
    "_isFastLaunch": true,
    "category": "General purpose",
    "gpuNum": 0,
    "hideHardwareSpecs": false,
    "memoryGiB": 8,
    "name": "ml.m5.large",
    "vcpuNum": 2
   },
   {
    "_defaultOrder": 5,
    "_isFastLaunch": false,
    "category": "General purpose",
    "gpuNum": 0,
    "hideHardwareSpecs": false,
    "memoryGiB": 16,
    "name": "ml.m5.xlarge",
    "vcpuNum": 4
   },
   {
    "_defaultOrder": 6,
    "_isFastLaunch": false,
    "category": "General purpose",
    "gpuNum": 0,
    "hideHardwareSpecs": false,
    "memoryGiB": 32,
    "name": "ml.m5.2xlarge",
    "vcpuNum": 8
   },
   {
    "_defaultOrder": 7,
    "_isFastLaunch": false,
    "category": "General purpose",
    "gpuNum": 0,
    "hideHardwareSpecs": false,
    "memoryGiB": 64,
    "name": "ml.m5.4xlarge",
    "vcpuNum": 16
   },
   {
    "_defaultOrder": 8,
    "_isFastLaunch": false,
    "category": "General purpose",
    "gpuNum": 0,
    "hideHardwareSpecs": false,
    "memoryGiB": 128,
    "name": "ml.m5.8xlarge",
    "vcpuNum": 32
   },
   {
    "_defaultOrder": 9,
    "_isFastLaunch": false,
    "category": "General purpose",
    "gpuNum": 0,
    "hideHardwareSpecs": false,
    "memoryGiB": 192,
    "name": "ml.m5.12xlarge",
    "vcpuNum": 48
   },
   {
    "_defaultOrder": 10,
    "_isFastLaunch": false,
    "category": "General purpose",
    "gpuNum": 0,
    "hideHardwareSpecs": false,
    "memoryGiB": 256,
    "name": "ml.m5.16xlarge",
    "vcpuNum": 64
   },
   {
    "_defaultOrder": 11,
    "_isFastLaunch": false,
    "category": "General purpose",
    "gpuNum": 0,
    "hideHardwareSpecs": false,
    "memoryGiB": 384,
    "name": "ml.m5.24xlarge",
    "vcpuNum": 96
   },
   {
    "_defaultOrder": 12,
    "_isFastLaunch": false,
    "category": "General purpose",
    "gpuNum": 0,
    "hideHardwareSpecs": false,
    "memoryGiB": 8,
    "name": "ml.m5d.large",
    "vcpuNum": 2
   },
   {
    "_defaultOrder": 13,
    "_isFastLaunch": false,
    "category": "General purpose",
    "gpuNum": 0,
    "hideHardwareSpecs": false,
    "memoryGiB": 16,
    "name": "ml.m5d.xlarge",
    "vcpuNum": 4
   },
   {
    "_defaultOrder": 14,
    "_isFastLaunch": false,
    "category": "General purpose",
    "gpuNum": 0,
    "hideHardwareSpecs": false,
    "memoryGiB": 32,
    "name": "ml.m5d.2xlarge",
    "vcpuNum": 8
   },
   {
    "_defaultOrder": 15,
    "_isFastLaunch": false,
    "category": "General purpose",
    "gpuNum": 0,
    "hideHardwareSpecs": false,
    "memoryGiB": 64,
    "name": "ml.m5d.4xlarge",
    "vcpuNum": 16
   },
   {
    "_defaultOrder": 16,
    "_isFastLaunch": false,
    "category": "General purpose",
    "gpuNum": 0,
    "hideHardwareSpecs": false,
    "memoryGiB": 128,
    "name": "ml.m5d.8xlarge",
    "vcpuNum": 32
   },
   {
    "_defaultOrder": 17,
    "_isFastLaunch": false,
    "category": "General purpose",
    "gpuNum": 0,
    "hideHardwareSpecs": false,
    "memoryGiB": 192,
    "name": "ml.m5d.12xlarge",
    "vcpuNum": 48
   },
   {
    "_defaultOrder": 18,
    "_isFastLaunch": false,
    "category": "General purpose",
    "gpuNum": 0,
    "hideHardwareSpecs": false,
    "memoryGiB": 256,
    "name": "ml.m5d.16xlarge",
    "vcpuNum": 64
   },
   {
    "_defaultOrder": 19,
    "_isFastLaunch": false,
    "category": "General purpose",
    "gpuNum": 0,
    "hideHardwareSpecs": false,
    "memoryGiB": 384,
    "name": "ml.m5d.24xlarge",
    "vcpuNum": 96
   },
   {
    "_defaultOrder": 20,
    "_isFastLaunch": false,
    "category": "General purpose",
    "gpuNum": 0,
    "hideHardwareSpecs": true,
    "memoryGiB": 0,
    "name": "ml.geospatial.interactive",
    "supportedImageNames": [
     "sagemaker-geospatial-v1-0"
    ],
    "vcpuNum": 0
   },
   {
    "_defaultOrder": 21,
    "_isFastLaunch": true,
    "category": "Compute optimized",
    "gpuNum": 0,
    "hideHardwareSpecs": false,
    "memoryGiB": 4,
    "name": "ml.c5.large",
    "vcpuNum": 2
   },
   {
    "_defaultOrder": 22,
    "_isFastLaunch": false,
    "category": "Compute optimized",
    "gpuNum": 0,
    "hideHardwareSpecs": false,
    "memoryGiB": 8,
    "name": "ml.c5.xlarge",
    "vcpuNum": 4
   },
   {
    "_defaultOrder": 23,
    "_isFastLaunch": false,
    "category": "Compute optimized",
    "gpuNum": 0,
    "hideHardwareSpecs": false,
    "memoryGiB": 16,
    "name": "ml.c5.2xlarge",
    "vcpuNum": 8
   },
   {
    "_defaultOrder": 24,
    "_isFastLaunch": false,
    "category": "Compute optimized",
    "gpuNum": 0,
    "hideHardwareSpecs": false,
    "memoryGiB": 32,
    "name": "ml.c5.4xlarge",
    "vcpuNum": 16
   },
   {
    "_defaultOrder": 25,
    "_isFastLaunch": false,
    "category": "Compute optimized",
    "gpuNum": 0,
    "hideHardwareSpecs": false,
    "memoryGiB": 72,
    "name": "ml.c5.9xlarge",
    "vcpuNum": 36
   },
   {
    "_defaultOrder": 26,
    "_isFastLaunch": false,
    "category": "Compute optimized",
    "gpuNum": 0,
    "hideHardwareSpecs": false,
    "memoryGiB": 96,
    "name": "ml.c5.12xlarge",
    "vcpuNum": 48
   },
   {
    "_defaultOrder": 27,
    "_isFastLaunch": false,
    "category": "Compute optimized",
    "gpuNum": 0,
    "hideHardwareSpecs": false,
    "memoryGiB": 144,
    "name": "ml.c5.18xlarge",
    "vcpuNum": 72
   },
   {
    "_defaultOrder": 28,
    "_isFastLaunch": false,
    "category": "Compute optimized",
    "gpuNum": 0,
    "hideHardwareSpecs": false,
    "memoryGiB": 192,
    "name": "ml.c5.24xlarge",
    "vcpuNum": 96
   },
   {
    "_defaultOrder": 29,
    "_isFastLaunch": true,
    "category": "Accelerated computing",
    "gpuNum": 1,
    "hideHardwareSpecs": false,
    "memoryGiB": 16,
    "name": "ml.g4dn.xlarge",
    "vcpuNum": 4
   },
   {
    "_defaultOrder": 30,
    "_isFastLaunch": false,
    "category": "Accelerated computing",
    "gpuNum": 1,
    "hideHardwareSpecs": false,
    "memoryGiB": 32,
    "name": "ml.g4dn.2xlarge",
    "vcpuNum": 8
   },
   {
    "_defaultOrder": 31,
    "_isFastLaunch": false,
    "category": "Accelerated computing",
    "gpuNum": 1,
    "hideHardwareSpecs": false,
    "memoryGiB": 64,
    "name": "ml.g4dn.4xlarge",
    "vcpuNum": 16
   },
   {
    "_defaultOrder": 32,
    "_isFastLaunch": false,
    "category": "Accelerated computing",
    "gpuNum": 1,
    "hideHardwareSpecs": false,
    "memoryGiB": 128,
    "name": "ml.g4dn.8xlarge",
    "vcpuNum": 32
   },
   {
    "_defaultOrder": 33,
    "_isFastLaunch": false,
    "category": "Accelerated computing",
    "gpuNum": 4,
    "hideHardwareSpecs": false,
    "memoryGiB": 192,
    "name": "ml.g4dn.12xlarge",
    "vcpuNum": 48
   },
   {
    "_defaultOrder": 34,
    "_isFastLaunch": false,
    "category": "Accelerated computing",
    "gpuNum": 1,
    "hideHardwareSpecs": false,
    "memoryGiB": 256,
    "name": "ml.g4dn.16xlarge",
    "vcpuNum": 64
   },
   {
    "_defaultOrder": 35,
    "_isFastLaunch": false,
    "category": "Accelerated computing",
    "gpuNum": 1,
    "hideHardwareSpecs": false,
    "memoryGiB": 61,
    "name": "ml.p3.2xlarge",
    "vcpuNum": 8
   },
   {
    "_defaultOrder": 36,
    "_isFastLaunch": false,
    "category": "Accelerated computing",
    "gpuNum": 4,
    "hideHardwareSpecs": false,
    "memoryGiB": 244,
    "name": "ml.p3.8xlarge",
    "vcpuNum": 32
   },
   {
    "_defaultOrder": 37,
    "_isFastLaunch": false,
    "category": "Accelerated computing",
    "gpuNum": 8,
    "hideHardwareSpecs": false,
    "memoryGiB": 488,
    "name": "ml.p3.16xlarge",
    "vcpuNum": 64
   },
   {
    "_defaultOrder": 38,
    "_isFastLaunch": false,
    "category": "Accelerated computing",
    "gpuNum": 8,
    "hideHardwareSpecs": false,
    "memoryGiB": 768,
    "name": "ml.p3dn.24xlarge",
    "vcpuNum": 96
   },
   {
    "_defaultOrder": 39,
    "_isFastLaunch": false,
    "category": "Memory Optimized",
    "gpuNum": 0,
    "hideHardwareSpecs": false,
    "memoryGiB": 16,
    "name": "ml.r5.large",
    "vcpuNum": 2
   },
   {
    "_defaultOrder": 40,
    "_isFastLaunch": false,
    "category": "Memory Optimized",
    "gpuNum": 0,
    "hideHardwareSpecs": false,
    "memoryGiB": 32,
    "name": "ml.r5.xlarge",
    "vcpuNum": 4
   },
   {
    "_defaultOrder": 41,
    "_isFastLaunch": false,
    "category": "Memory Optimized",
    "gpuNum": 0,
    "hideHardwareSpecs": false,
    "memoryGiB": 64,
    "name": "ml.r5.2xlarge",
    "vcpuNum": 8
   },
   {
    "_defaultOrder": 42,
    "_isFastLaunch": false,
    "category": "Memory Optimized",
    "gpuNum": 0,
    "hideHardwareSpecs": false,
    "memoryGiB": 128,
    "name": "ml.r5.4xlarge",
    "vcpuNum": 16
   },
   {
    "_defaultOrder": 43,
    "_isFastLaunch": false,
    "category": "Memory Optimized",
    "gpuNum": 0,
    "hideHardwareSpecs": false,
    "memoryGiB": 256,
    "name": "ml.r5.8xlarge",
    "vcpuNum": 32
   },
   {
    "_defaultOrder": 44,
    "_isFastLaunch": false,
    "category": "Memory Optimized",
    "gpuNum": 0,
    "hideHardwareSpecs": false,
    "memoryGiB": 384,
    "name": "ml.r5.12xlarge",
    "vcpuNum": 48
   },
   {
    "_defaultOrder": 45,
    "_isFastLaunch": false,
    "category": "Memory Optimized",
    "gpuNum": 0,
    "hideHardwareSpecs": false,
    "memoryGiB": 512,
    "name": "ml.r5.16xlarge",
    "vcpuNum": 64
   },
   {
    "_defaultOrder": 46,
    "_isFastLaunch": false,
    "category": "Memory Optimized",
    "gpuNum": 0,
    "hideHardwareSpecs": false,
    "memoryGiB": 768,
    "name": "ml.r5.24xlarge",
    "vcpuNum": 96
   },
   {
    "_defaultOrder": 47,
    "_isFastLaunch": false,
    "category": "Accelerated computing",
    "gpuNum": 1,
    "hideHardwareSpecs": false,
    "memoryGiB": 16,
    "name": "ml.g5.xlarge",
    "vcpuNum": 4
   },
   {
    "_defaultOrder": 48,
    "_isFastLaunch": false,
    "category": "Accelerated computing",
    "gpuNum": 1,
    "hideHardwareSpecs": false,
    "memoryGiB": 32,
    "name": "ml.g5.2xlarge",
    "vcpuNum": 8
   },
   {
    "_defaultOrder": 49,
    "_isFastLaunch": false,
    "category": "Accelerated computing",
    "gpuNum": 1,
    "hideHardwareSpecs": false,
    "memoryGiB": 64,
    "name": "ml.g5.4xlarge",
    "vcpuNum": 16
   },
   {
    "_defaultOrder": 50,
    "_isFastLaunch": false,
    "category": "Accelerated computing",
    "gpuNum": 1,
    "hideHardwareSpecs": false,
    "memoryGiB": 128,
    "name": "ml.g5.8xlarge",
    "vcpuNum": 32
   },
   {
    "_defaultOrder": 51,
    "_isFastLaunch": false,
    "category": "Accelerated computing",
    "gpuNum": 1,
    "hideHardwareSpecs": false,
    "memoryGiB": 256,
    "name": "ml.g5.16xlarge",
    "vcpuNum": 64
   },
   {
    "_defaultOrder": 52,
    "_isFastLaunch": false,
    "category": "Accelerated computing",
    "gpuNum": 4,
    "hideHardwareSpecs": false,
    "memoryGiB": 192,
    "name": "ml.g5.12xlarge",
    "vcpuNum": 48
   },
   {
    "_defaultOrder": 53,
    "_isFastLaunch": false,
    "category": "Accelerated computing",
    "gpuNum": 4,
    "hideHardwareSpecs": false,
    "memoryGiB": 384,
    "name": "ml.g5.24xlarge",
    "vcpuNum": 96
   },
   {
    "_defaultOrder": 54,
    "_isFastLaunch": false,
    "category": "Accelerated computing",
    "gpuNum": 8,
    "hideHardwareSpecs": false,
    "memoryGiB": 768,
    "name": "ml.g5.48xlarge",
    "vcpuNum": 192
   },
   {
    "_defaultOrder": 55,
    "_isFastLaunch": false,
    "category": "Accelerated computing",
    "gpuNum": 8,
    "hideHardwareSpecs": false,
    "memoryGiB": 1152,
    "name": "ml.p4d.24xlarge",
    "vcpuNum": 96
   },
   {
    "_defaultOrder": 56,
    "_isFastLaunch": false,
    "category": "Accelerated computing",
    "gpuNum": 8,
    "hideHardwareSpecs": false,
    "memoryGiB": 1152,
    "name": "ml.p4de.24xlarge",
    "vcpuNum": 96
   },
   {
    "_defaultOrder": 57,
    "_isFastLaunch": false,
    "category": "Accelerated computing",
    "gpuNum": 0,
    "hideHardwareSpecs": false,
    "memoryGiB": 32,
    "name": "ml.trn1.2xlarge",
    "vcpuNum": 8
   },
   {
    "_defaultOrder": 58,
    "_isFastLaunch": false,
    "category": "Accelerated computing",
    "gpuNum": 0,
    "hideHardwareSpecs": false,
    "memoryGiB": 512,
    "name": "ml.trn1.32xlarge",
    "vcpuNum": 128
   },
   {
    "_defaultOrder": 59,
    "_isFastLaunch": false,
    "category": "Accelerated computing",
    "gpuNum": 0,
    "hideHardwareSpecs": false,
    "memoryGiB": 512,
    "name": "ml.trn1n.32xlarge",
    "vcpuNum": 128
   }
  ],
  "colab": {
   "gpuType": "T4",
   "machine_shape": "hm",
   "provenance": []
  },
  "instance_type": "ml.g4dn.2xlarge",
  "kernelspec": {
   "display_name": "Python 3 (PyTorch 2.0.0 Python 3.10 GPU Optimized)",
   "language": "python",
   "name": "python3__SAGEMAKER_INTERNAL__arn:aws:sagemaker:ap-southeast-2:452832661640:image/pytorch-2.0.0-gpu-py310"
  },
  "language_info": {
   "codemirror_mode": {
    "name": "ipython",
    "version": 3
   },
   "file_extension": ".py",
   "mimetype": "text/x-python",
   "name": "python",
   "nbconvert_exporter": "python",
   "pygments_lexer": "ipython3",
   "version": "3.10.8"
  }
 },
 "nbformat": 4,
 "nbformat_minor": 5
}
